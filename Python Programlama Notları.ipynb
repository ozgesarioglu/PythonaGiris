{
 "cells": [
  {
   "cell_type": "markdown",
   "id": "c1f40032",
   "metadata": {},
   "source": [
    "# Değişken tanımlama"
   ]
  },
  {
   "cell_type": "code",
   "execution_count": 11,
   "id": "122fa30c",
   "metadata": {},
   "outputs": [],
   "source": [
    "# Python'da değişken tanımlamada \"=\" operatörü kullanılır."
   ]
  },
  {
   "cell_type": "code",
   "execution_count": 88,
   "id": "17fffc21",
   "metadata": {},
   "outputs": [],
   "source": [
    "x=20   #x değişkenine 20 değerini atadık. "
   ]
  },
  {
   "cell_type": "code",
   "execution_count": 89,
   "id": "7cedf131",
   "metadata": {},
   "outputs": [
    {
     "data": {
      "text/plain": [
       "20"
      ]
     },
     "execution_count": 89,
     "metadata": {},
     "output_type": "execute_result"
    }
   ],
   "source": [
    "x"
   ]
  },
  {
   "cell_type": "code",
   "execution_count": 22,
   "id": "febf7466",
   "metadata": {},
   "outputs": [],
   "source": [
    "#Birden fazla değişkeni tanımlamak için ayrı atama yerine virgülle ayırarak atama işlemini gerçekleştirebiliriz."
   ]
  },
  {
   "cell_type": "code",
   "execution_count": 23,
   "id": "c819ffd9",
   "metadata": {},
   "outputs": [],
   "source": [
    "x=15\n",
    "y=25"
   ]
  },
  {
   "cell_type": "code",
   "execution_count": 25,
   "id": "e3e878ec",
   "metadata": {},
   "outputs": [
    {
     "data": {
      "text/plain": [
       "(15, 25)"
      ]
     },
     "execution_count": 25,
     "metadata": {},
     "output_type": "execute_result"
    }
   ],
   "source": [
    "x,y   #İki değeri bu şekilde yan yana görebiliriz."
   ]
  },
  {
   "cell_type": "code",
   "execution_count": 94,
   "id": "38093062",
   "metadata": {},
   "outputs": [],
   "source": [
    "x,y=3,4"
   ]
  },
  {
   "cell_type": "code",
   "execution_count": 95,
   "id": "f267bb39",
   "metadata": {},
   "outputs": [
    {
     "data": {
      "text/plain": [
       "3"
      ]
     },
     "execution_count": 95,
     "metadata": {},
     "output_type": "execute_result"
    }
   ],
   "source": [
    "x"
   ]
  },
  {
   "cell_type": "code",
   "execution_count": 96,
   "id": "bbc7a16b",
   "metadata": {},
   "outputs": [
    {
     "data": {
      "text/plain": [
       "4"
      ]
     },
     "execution_count": 96,
     "metadata": {},
     "output_type": "execute_result"
    }
   ],
   "source": [
    "y"
   ]
  },
  {
   "cell_type": "code",
   "execution_count": 97,
   "id": "11eb7185",
   "metadata": {},
   "outputs": [
    {
     "data": {
      "text/plain": [
       "(3, 4)"
      ]
     },
     "execution_count": 97,
     "metadata": {},
     "output_type": "execute_result"
    }
   ],
   "source": [
    "x,y"
   ]
  },
  {
   "cell_type": "markdown",
   "id": "54f45847",
   "metadata": {},
   "source": [
    "# Aritmetik Operatörler"
   ]
  },
  {
   "cell_type": "markdown",
   "id": "df02eb8a",
   "metadata": {},
   "source": [
    "Toplama operatörü: +"
   ]
  },
  {
   "cell_type": "code",
   "execution_count": 35,
   "id": "269f772b",
   "metadata": {},
   "outputs": [],
   "source": [
    "a=123\n",
    "b=26"
   ]
  },
  {
   "cell_type": "code",
   "execution_count": 36,
   "id": "b03caaab",
   "metadata": {},
   "outputs": [
    {
     "data": {
      "text/plain": [
       "149"
      ]
     },
     "execution_count": 36,
     "metadata": {},
     "output_type": "execute_result"
    }
   ],
   "source": [
    "a+b"
   ]
  },
  {
   "cell_type": "code",
   "execution_count": null,
   "id": "8ab21bdd",
   "metadata": {},
   "outputs": [],
   "source": []
  },
  {
   "cell_type": "markdown",
   "id": "e6dfb3e9",
   "metadata": {},
   "source": [
    "Çıkarma operatörü: -"
   ]
  },
  {
   "cell_type": "code",
   "execution_count": 37,
   "id": "69a141a6",
   "metadata": {},
   "outputs": [
    {
     "data": {
      "text/plain": [
       "97"
      ]
     },
     "execution_count": 37,
     "metadata": {},
     "output_type": "execute_result"
    }
   ],
   "source": [
    "a-b"
   ]
  },
  {
   "cell_type": "code",
   "execution_count": null,
   "id": "f9b22ce1",
   "metadata": {},
   "outputs": [],
   "source": []
  },
  {
   "cell_type": "markdown",
   "id": "eb164f5b",
   "metadata": {},
   "source": [
    "Çarpma Operatörü: *"
   ]
  },
  {
   "cell_type": "code",
   "execution_count": 38,
   "id": "cabab337",
   "metadata": {},
   "outputs": [
    {
     "data": {
      "text/plain": [
       "3198"
      ]
     },
     "execution_count": 38,
     "metadata": {},
     "output_type": "execute_result"
    }
   ],
   "source": [
    "a*b"
   ]
  },
  {
   "cell_type": "code",
   "execution_count": 49,
   "id": "9ba00e85",
   "metadata": {},
   "outputs": [
    {
     "data": {
      "text/plain": [
       "'PythonPython'"
      ]
     },
     "execution_count": 49,
     "metadata": {},
     "output_type": "execute_result"
    }
   ],
   "source": [
    "2*\"Python\"  #String bir ifadeyi integer bir değerle çarparsak sayı kadar tekrar yazdırır."
   ]
  },
  {
   "cell_type": "code",
   "execution_count": null,
   "id": "d36e87bf",
   "metadata": {},
   "outputs": [],
   "source": []
  },
  {
   "cell_type": "markdown",
   "id": "59af5460",
   "metadata": {},
   "source": [
    "Bölme operatörü: /"
   ]
  },
  {
   "cell_type": "code",
   "execution_count": 39,
   "id": "ac46c6e4",
   "metadata": {},
   "outputs": [
    {
     "data": {
      "text/plain": [
       "4.730769230769231"
      ]
     },
     "execution_count": 39,
     "metadata": {},
     "output_type": "execute_result"
    }
   ],
   "source": [
    "a/b"
   ]
  },
  {
   "cell_type": "code",
   "execution_count": null,
   "id": "0444abf5",
   "metadata": {},
   "outputs": [],
   "source": []
  },
  {
   "cell_type": "markdown",
   "id": "ee9d262e",
   "metadata": {},
   "source": [
    "Üs alma operatörü: **"
   ]
  },
  {
   "cell_type": "code",
   "execution_count": 40,
   "id": "36cfceb4",
   "metadata": {},
   "outputs": [
    {
     "data": {
      "text/plain": [
       "25"
      ]
     },
     "execution_count": 40,
     "metadata": {},
     "output_type": "execute_result"
    }
   ],
   "source": [
    "5**2"
   ]
  },
  {
   "cell_type": "code",
   "execution_count": 41,
   "id": "72032d7c",
   "metadata": {},
   "outputs": [
    {
     "data": {
      "text/plain": [
       "11881376"
      ]
     },
     "execution_count": 41,
     "metadata": {},
     "output_type": "execute_result"
    }
   ],
   "source": [
    "26**5"
   ]
  },
  {
   "cell_type": "code",
   "execution_count": 44,
   "id": "43146d6c",
   "metadata": {},
   "outputs": [
    {
     "data": {
      "text/plain": [
       "4.0"
      ]
     },
     "execution_count": 44,
     "metadata": {},
     "output_type": "execute_result"
    }
   ],
   "source": [
    "16**0.5   # Bir sayının 0.5 karesi o sayının kareköküne eşittir."
   ]
  },
  {
   "cell_type": "code",
   "execution_count": null,
   "id": "ab457720",
   "metadata": {},
   "outputs": [],
   "source": []
  },
  {
   "cell_type": "markdown",
   "id": "859ce430",
   "metadata": {},
   "source": [
    "Mod alma operatörü: %"
   ]
  },
  {
   "cell_type": "code",
   "execution_count": 52,
   "id": "0ce2bac9",
   "metadata": {},
   "outputs": [
    {
     "data": {
      "text/plain": [
       "0"
      ]
     },
     "execution_count": 52,
     "metadata": {},
     "output_type": "execute_result"
    }
   ],
   "source": [
    "25%5"
   ]
  },
  {
   "cell_type": "code",
   "execution_count": 53,
   "id": "84e78099",
   "metadata": {},
   "outputs": [
    {
     "data": {
      "text/plain": [
       "1"
      ]
     },
     "execution_count": 53,
     "metadata": {},
     "output_type": "execute_result"
    }
   ],
   "source": [
    "25%3"
   ]
  },
  {
   "cell_type": "code",
   "execution_count": null,
   "id": "caa0da91",
   "metadata": {},
   "outputs": [],
   "source": []
  },
  {
   "cell_type": "markdown",
   "id": "23243bc7",
   "metadata": {},
   "source": [
    "Tam bölüm operatörü: //"
   ]
  },
  {
   "cell_type": "code",
   "execution_count": 55,
   "id": "ab12fd0d",
   "metadata": {},
   "outputs": [
    {
     "data": {
      "text/plain": [
       "7"
      ]
     },
     "execution_count": 55,
     "metadata": {},
     "output_type": "execute_result"
    }
   ],
   "source": [
    "49//7"
   ]
  },
  {
   "cell_type": "code",
   "execution_count": 58,
   "id": "150503a6",
   "metadata": {},
   "outputs": [
    {
     "data": {
      "text/plain": [
       "6"
      ]
     },
     "execution_count": 58,
     "metadata": {},
     "output_type": "execute_result"
    }
   ],
   "source": [
    "49//8 #Bölümden çıkan kalanlı sonucu dahil etmez."
   ]
  },
  {
   "cell_type": "code",
   "execution_count": null,
   "id": "cbb34549",
   "metadata": {},
   "outputs": [],
   "source": []
  },
  {
   "cell_type": "markdown",
   "id": "350d3afc",
   "metadata": {},
   "source": [
    "# Özel Karakterler"
   ]
  },
  {
   "cell_type": "markdown",
   "id": "721d4bcc",
   "metadata": {},
   "source": [
    "print()"
   ]
  },
  {
   "cell_type": "code",
   "execution_count": 59,
   "id": "9fa07c2e",
   "metadata": {},
   "outputs": [
    {
     "name": "stdout",
     "output_type": "stream",
     "text": [
      "Programlama\n"
     ]
    }
   ],
   "source": [
    "print(\"Programlama\")"
   ]
  },
  {
   "cell_type": "code",
   "execution_count": 60,
   "id": "25f7568c",
   "metadata": {},
   "outputs": [
    {
     "name": "stdout",
     "output_type": "stream",
     "text": [
      "2\n"
     ]
    }
   ],
   "source": [
    "print(\"2\")"
   ]
  },
  {
   "cell_type": "code",
   "execution_count": 61,
   "id": "e7d5cbe9",
   "metadata": {},
   "outputs": [
    {
     "name": "stdout",
     "output_type": "stream",
     "text": [
      "8\n"
     ]
    }
   ],
   "source": [
    "print(5+3)"
   ]
  },
  {
   "cell_type": "code",
   "execution_count": 62,
   "id": "a414d492",
   "metadata": {},
   "outputs": [],
   "source": [
    "#Metinsel ifadeleri yazarken karışıklarla karşılaşmamak için bazı özel karakterleri kullanmalıyız. "
   ]
  },
  {
   "cell_type": "code",
   "execution_count": 63,
   "id": "c06bf642",
   "metadata": {},
   "outputs": [
    {
     "name": "stdout",
     "output_type": "stream",
     "text": [
      "GS BJK FB\n"
     ]
    }
   ],
   "source": [
    "print(\"GS\",\"BJK\",\"FB\")"
   ]
  },
  {
   "cell_type": "code",
   "execution_count": 65,
   "id": "c395ea32",
   "metadata": {},
   "outputs": [],
   "source": [
    "#Özellikle metinsel ifadeleri yazarken tek tırnak, çift tırnak durumlarına dikkat etmeliyiz."
   ]
  },
  {
   "cell_type": "code",
   "execution_count": 66,
   "id": "e0c8ef30",
   "metadata": {},
   "outputs": [
    {
     "data": {
      "text/plain": [
       "\"Özge'nin Python'a giriş notları\""
      ]
     },
     "execution_count": 66,
     "metadata": {},
     "output_type": "execute_result"
    }
   ],
   "source": [
    "\"Özge'nin Python'a giriş notları\""
   ]
  },
  {
   "cell_type": "code",
   "execution_count": 74,
   "id": "e2010054",
   "metadata": {},
   "outputs": [
    {
     "ename": "SyntaxError",
     "evalue": "invalid syntax (Temp/ipykernel_4664/1532875743.py, line 1)",
     "output_type": "error",
     "traceback": [
      "\u001b[1;36m  File \u001b[1;32m\"C:\\Users\\ozgee\\AppData\\Local\\Temp/ipykernel_4664/1532875743.py\"\u001b[1;36m, line \u001b[1;32m1\u001b[0m\n\u001b[1;33m    \"Ayşe, bana \"Ne zaman gelirsin?\" diye sordu.\"   # Hata verir.\u001b[0m\n\u001b[1;37m                 ^\u001b[0m\n\u001b[1;31mSyntaxError\u001b[0m\u001b[1;31m:\u001b[0m invalid syntax\n"
     ]
    }
   ],
   "source": [
    "\"Ayşe, bana \"Ne zaman gelirsin?\" diye sordu.\"   # Hata verir."
   ]
  },
  {
   "cell_type": "code",
   "execution_count": 75,
   "id": "d88e7b18",
   "metadata": {},
   "outputs": [],
   "source": [
    "#Yukarıdaki gibi hata almamanın ilk yolu  tırnak ifadelerini düzeltmek"
   ]
  },
  {
   "cell_type": "code",
   "execution_count": 72,
   "id": "f155afc6",
   "metadata": {},
   "outputs": [
    {
     "data": {
      "text/plain": [
       "\"Ayşe, bana 'Ne zaman gelirsin?' diye sordu.\""
      ]
     },
     "execution_count": 72,
     "metadata": {},
     "output_type": "execute_result"
    }
   ],
   "source": [
    "\"Ayşe, bana 'Ne zaman gelirsin?' diye sordu.\"   "
   ]
  },
  {
   "cell_type": "code",
   "execution_count": 76,
   "id": "4ae93e1c",
   "metadata": {},
   "outputs": [],
   "source": [
    "#Ya da diğer bir yol farklı özel karakterler kullanmaktır."
   ]
  },
  {
   "cell_type": "markdown",
   "id": "25b78f07",
   "metadata": {},
   "source": [
    "## Escape sequences:Kaçış karakterleri"
   ]
  },
  {
   "cell_type": "markdown",
   "id": "257b0849",
   "metadata": {},
   "source": [
    "\\ karakteri"
   ]
  },
  {
   "cell_type": "code",
   "execution_count": 98,
   "id": "a9c7f066",
   "metadata": {},
   "outputs": [
    {
     "data": {
      "text/plain": [
       "'Ayşe, bana \"Ne zaman gelirsin?\" diye sordu.'"
      ]
     },
     "execution_count": 98,
     "metadata": {},
     "output_type": "execute_result"
    }
   ],
   "source": [
    "\"Ayşe, bana \\\"Ne zaman gelirsin?\\\" diye sordu.\"   #Kaçış karakterini kullandık."
   ]
  },
  {
   "cell_type": "code",
   "execution_count": null,
   "id": "9d0a60ef",
   "metadata": {},
   "outputs": [],
   "source": []
  },
  {
   "cell_type": "markdown",
   "id": "5b52ffa1",
   "metadata": {},
   "source": [
    "\\n karakteri"
   ]
  },
  {
   "cell_type": "code",
   "execution_count": 99,
   "id": "5fa0ab38",
   "metadata": {},
   "outputs": [],
   "source": [
    "# Alt alta yazdırır."
   ]
  },
  {
   "cell_type": "code",
   "execution_count": 100,
   "id": "a858bfed",
   "metadata": {},
   "outputs": [
    {
     "name": "stdout",
     "output_type": "stream",
     "text": [
      "Hey\n",
      "merhaba gençler\n"
     ]
    }
   ],
   "source": [
    "print(\"Hey\\nmerhaba gençler\")"
   ]
  },
  {
   "cell_type": "code",
   "execution_count": null,
   "id": "8a0d0da2",
   "metadata": {},
   "outputs": [],
   "source": []
  },
  {
   "cell_type": "markdown",
   "id": "a4be7391",
   "metadata": {},
   "source": [
    "\\t karakteri"
   ]
  },
  {
   "cell_type": "code",
   "execution_count": 101,
   "id": "d441dc60",
   "metadata": {},
   "outputs": [],
   "source": [
    "#Bir tab boşluk bırakır."
   ]
  },
  {
   "cell_type": "code",
   "execution_count": 102,
   "id": "2aa6b6bc",
   "metadata": {},
   "outputs": [
    {
     "name": "stdout",
     "output_type": "stream",
     "text": [
      "Python\tProgramlama\tDili\n"
     ]
    }
   ],
   "source": [
    "print(\"Python\\tProgramlama\\tDili\")"
   ]
  },
  {
   "cell_type": "code",
   "execution_count": null,
   "id": "e29ab991",
   "metadata": {},
   "outputs": [],
   "source": []
  },
  {
   "cell_type": "code",
   "execution_count": null,
   "id": "2c5bbcf5",
   "metadata": {},
   "outputs": [],
   "source": []
  }
 ],
 "metadata": {
  "kernelspec": {
   "display_name": "Python 3 (ipykernel)",
   "language": "python",
   "name": "python3"
  },
  "language_info": {
   "codemirror_mode": {
    "name": "ipython",
    "version": 3
   },
   "file_extension": ".py",
   "mimetype": "text/x-python",
   "name": "python",
   "nbconvert_exporter": "python",
   "pygments_lexer": "ipython3",
   "version": "3.9.7"
  }
 },
 "nbformat": 4,
 "nbformat_minor": 5
}
